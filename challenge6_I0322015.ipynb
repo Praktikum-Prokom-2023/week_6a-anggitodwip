{
 "cells": [
  {
   "attachments": {},
   "cell_type": "markdown",
   "metadata": {},
   "source": [
    "1. Diberikan list sebagai berikut, tampilkan isi dari list secara terbalik dengan menggunakan Built-in Function "
   ]
  },
  {
   "cell_type": "code",
   "execution_count": 4,
   "metadata": {},
   "outputs": [
    {
     "name": "stdout",
     "output_type": "stream",
     "text": [
      "['e', 'd', 'c', 'b', 'a']\n"
     ]
    }
   ],
   "source": [
    "alph = [\"a\", \"b\",\"e\", \"c\", \"d\"]\n",
    "\n",
    "alph.sort(reverse= True)\n",
    "print(alph)"
   ]
  },
  {
   "attachments": {},
   "cell_type": "markdown",
   "metadata": {},
   "source": [
    "2. Tuliskan sebuah fungsi yang menerima dua argumen dan mengembalikan True jika nilai pertama lebih besar daripada yang kedua, False jika kurang dari atau sama dengan nilai yang pertama"
   ]
  },
  {
   "cell_type": "code",
   "execution_count": 6,
   "metadata": {},
   "outputs": [
    {
     "name": "stdout",
     "output_type": "stream",
     "text": [
      "False\n",
      "True\n",
      "False\n"
     ]
    },
    {
     "data": {
      "text/plain": [
       "True"
      ]
     },
     "execution_count": 6,
     "metadata": {},
     "output_type": "execute_result"
    }
   ],
   "source": [
    "def bandingkan(nilai1,nilai2):\n",
    "    if nilai1 > nilai2:\n",
    "        return True\n",
    "    else:\n",
    "        return False\n",
    "    \n",
    "print(bandingkan(12,90))\n",
    "print(bandingkan(100,90))\n",
    "print(bandingkan(nilai2=0, nilai1= 0))"
   ]
  }
 ],
 "metadata": {
  "kernelspec": {
   "display_name": "Python 3",
   "language": "python",
   "name": "python3"
  },
  "language_info": {
   "codemirror_mode": {
    "name": "ipython",
    "version": 3
   },
   "file_extension": ".py",
   "mimetype": "text/x-python",
   "name": "python",
   "nbconvert_exporter": "python",
   "pygments_lexer": "ipython3",
   "version": "3.11.2"
  },
  "orig_nbformat": 4
 },
 "nbformat": 4,
 "nbformat_minor": 2
}
